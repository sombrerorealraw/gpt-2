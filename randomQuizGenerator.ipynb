{
  "nbformat": 4,
  "nbformat_minor": 0,
  "metadata": {
    "colab": {
      "name": "randomQuizGenerator.ipynb",
      "provenance": [],
      "collapsed_sections": [],
      "authorship_tag": "ABX9TyNIWtbo4N/Uw9c0LymS0Kcj",
      "include_colab_link": true
    },
    "kernelspec": {
      "name": "python3",
      "display_name": "Python 3"
    },
    "language_info": {
      "name": "python"
    }
  },
  "cells": [
    {
      "cell_type": "markdown",
      "metadata": {
        "id": "view-in-github",
        "colab_type": "text"
      },
      "source": [
        "<a href=\"https://colab.research.google.com/github/sombrerorealraw/gpt-2/blob/master/randomQuizGenerator.ipynb\" target=\"_parent\"><img src=\"https://colab.research.google.com/assets/colab-badge.svg\" alt=\"Open In Colab\"/></a>"
      ]
    },
    {
      "cell_type": "code",
      "metadata": {
        "id": "FHAtpHgBD3Ox"
      },
      "source": [
        "#! python3\n",
        "# randomQuizGenerator.py - Creates quizzes with questions & answers in\n",
        "# random order, along with the answer key.\n",
        "\n",
        "import random\n",
        "\n",
        "# The quiz data. Keys are states and values are their capitals.\n",
        "\n",
        "capitals = {'Alabama': 'Montgomery', 'Alaska': 'Juneau', 'Arizona': 'Phoenix', 'Arkansas': 'Little Rock', 'California': 'Sacramento', 'Colorado': 'Denver', 'Conneticut': 'Hartford', \n",
        "            'Delaware': 'Dover', 'Florida': 'Tallahassee', 'Georgia': 'Atlanta', 'Hawaii': 'Honolulu', 'Idaho': 'Boise', 'Illinois': 'Springfield', 'Indiana': 'Indianapolis', 'Iowa': 'Des Moines', \n",
        "            'Kansas': 'Topeka', 'Kentucky': 'Frankfort', 'Louisiana': 'Baton Rouge', 'Maine': 'Augusta', 'Maryland': 'Annapolis', 'Massachusetts': 'Boston', 'Michigan': 'Lansing', 'Minnesota': 'Saint Paul',\n",
        "            'Mississippi': 'Jackson', 'Missouri': 'Jefferson City', 'Montana': 'Helena', 'Nebraska': 'Lincoln', 'Nevada': 'Carson City', 'New Hampshire': 'Concord', 'New Jersey': 'Trenton', 'New Mexico': 'Santa Fe',\n",
        "            'New York': 'Albany', 'North Carolina': 'Raleigh', 'North Dakota': 'Bismarck', 'Ohio': 'Columbus', 'Oklahoma': 'Oklahoma City', 'Oregon': 'Salem', 'Pennsylvania': 'Harrisburg', 'Rhode Island': 'Providence',\n",
        "            'South Carolina': 'Columbia', 'South Dakota': 'Pierre', 'Tennessee': 'Nashville', 'Texas': 'Austin', 'Utah': 'Salt Lake City', 'Vermont': 'Montpelier', 'Virginia': 'Richmond', 'Washington': 'Olympia',\n",
        "            'West Virginia': 'Charleston', 'Wisconsin': 'Madison', 'Wyoming': 'Cheyenne'}\n",
        "\n",
        "\n",
        "for quizNum in range(35):\n",
        "  #TODO: Create the quiz and answer key files.\n",
        "  quizFile = open('capitalsquiz%s.txt' % (quizNum + 1), 'w')\n",
        "  answerKeyFile = open('capitalsquiz_answers%s.txt' % (quizNum + 1), 'w')\n",
        "  \n",
        "  #Write out header for the quiz.\n",
        "  quizFile.write('Name:\\n\\nDate:\\n\\nPeriod:\\n\\n')\n",
        "  quizFile.write((' ' * 20) + 'State Capitals Quiz (Form %s)' % (quizNum + 1))\n",
        "  quizFile.write('\\n\\n')\n",
        "\n",
        "  #TODO: Shuffle the order of the states\n",
        "  states = list(capitals.keys())\n",
        "  random.shuffle(states)\n",
        "\n",
        "  #TODO: Loop through all 50 states, making a question for each\n",
        "  for questionNum in range(50):\n",
        "\n",
        "  # Get Right & Wrong Answers.\n",
        "    correctAnswer = capitals[states[questionNum]]\n",
        "    wrongAnswers = list(capitals.values())\n",
        "    del wrongAnswers[wrongAnswers.index(correctAnswer)]\n",
        "    wrongAnswers = random.sample(wrongAnswers, 3)\n",
        "    answerOptions = wrongAnswers + [correctAnswer]\n",
        "    random.shuffle(answerOptions)\n",
        "\n",
        "  # TODO: Write the question and answer options to the quiz file\n",
        "  quizFile.write('%s. What is the capital of %s?\\n' % (questionNum + 1, states[questionNum]))\n",
        "  for i in range(4):\n",
        "    quizFile.write('  %s. %s\\n' % ('ABCD'[i], answerOptions[i]))\n",
        "    quizFile.write('\\n')\n",
        "  \n",
        "  # TODO: Write the answer key to a file\n",
        "  answerKeyFile.write('%s. %s\\n' % (questionNum + 1, 'ABCD'[answerOptions.index(correctAnswer)]))\n",
        "  quizFile.close()\n",
        "  answerKeyFile.close()"
      ],
      "execution_count": 18,
      "outputs": []
    },
    {
      "cell_type": "markdown",
      "metadata": {
        "id": "-2b9CJE4c21W"
      },
      "source": [
        "# New Section"
      ]
    }
  ]
}